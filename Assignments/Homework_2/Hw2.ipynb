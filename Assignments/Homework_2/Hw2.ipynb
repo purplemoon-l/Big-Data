{
 "cells": [
  {
   "cell_type": "code",
   "execution_count": 1,
   "id": "159b59f1-f1f6-417f-ad8d-99d77bc85a33",
   "metadata": {},
   "outputs": [
    {
     "name": "stderr",
     "output_type": "stream",
     "text": [
      "Setting default log level to \"WARN\".\n",
      "To adjust logging level use sc.setLogLevel(newLevel). For SparkR, use setLogLevel(newLevel).\n"
     ]
    },
    {
     "name": "stdout",
     "output_type": "stream",
     "text": [
      "22/10/13 05:35:53 WARN NativeCodeLoader: Unable to load native-hadoop library for your platform... using builtin-java classes where applicable\n"
     ]
    },
    {
     "name": "stderr",
     "output_type": "stream",
     "text": [
      "/opt/conda/envs/bigdata-fall22/lib/python3.7/site-packages/pyspark/sql/context.py:159: FutureWarning: Deprecated in 3.0.0. Use SparkSession.builder.getOrCreate() instead.\n",
      "  FutureWarning,\n"
     ]
    }
   ],
   "source": [
    "import os\n",
    "import pyspark\n",
    "\n",
    "conf = pyspark.SparkConf()\n",
    "conf.set('spark.ui.proxyBase', '/user/' + os.environ['JUPYTERHUB_USER'] + '/proxy/4041')\n",
    "conf.set('spark.sql.repl.eagerEval.enabled', True)\n",
    "conf.set('spark.driver.memory','4g')\n",
    "\n",
    "sc = pyspark.SparkContext(conf=conf)\n",
    "spark = pyspark.SQLContext.getOrCreate(sc)"
   ]
  },
  {
   "cell_type": "markdown",
   "id": "04f101c1-0f23-4ce4-a427-13a5687d8550",
   "metadata": {},
   "source": [
    "### Q1"
   ]
  },
  {
   "cell_type": "code",
   "execution_count": 2,
   "id": "10e5a95e-6892-4c89-b92b-89bf41f8c983",
   "metadata": {},
   "outputs": [
    {
     "name": "stderr",
     "output_type": "stream",
     "text": [
      "                                                                                \r"
     ]
    }
   ],
   "source": [
    "BreadBasket = spark.read.option(\"inferSchema\", \"true\").option(\"header\", \"true\").csv(\"shared/hw2/BreadBasket_DMS.csv\")"
   ]
  },
  {
   "cell_type": "code",
   "execution_count": 3,
   "id": "ed7dc0cd-9c8f-4722-9352-1507d5760df8",
   "metadata": {},
   "outputs": [
    {
     "data": {
      "text/html": [
       "<table border='1'>\n",
       "<tr><th>Item</th><th>Transaction</th><th>Time</th><th>hour(Time)</th></tr>\n",
       "<tr><td>Bread</td><td>1</td><td>2022-10-13 09:58:11</td><td>9</td></tr>\n",
       "<tr><td>Scandinavian</td><td>2</td><td>2022-10-13 10:05:34</td><td>10</td></tr>\n",
       "<tr><td>Scandinavian</td><td>2</td><td>2022-10-13 10:05:34</td><td>10</td></tr>\n",
       "<tr><td>Hot chocolate</td><td>3</td><td>2022-10-13 10:07:57</td><td>10</td></tr>\n",
       "<tr><td>Jam</td><td>3</td><td>2022-10-13 10:07:57</td><td>10</td></tr>\n",
       "<tr><td>Cookies</td><td>3</td><td>2022-10-13 10:07:57</td><td>10</td></tr>\n",
       "<tr><td>Muffin</td><td>4</td><td>2022-10-13 10:08:41</td><td>10</td></tr>\n",
       "<tr><td>Coffee</td><td>5</td><td>2022-10-13 10:13:03</td><td>10</td></tr>\n",
       "<tr><td>Pastry</td><td>5</td><td>2022-10-13 10:13:03</td><td>10</td></tr>\n",
       "<tr><td>Bread</td><td>5</td><td>2022-10-13 10:13:03</td><td>10</td></tr>\n",
       "<tr><td>Medialuna</td><td>6</td><td>2022-10-13 10:16:55</td><td>10</td></tr>\n",
       "<tr><td>Pastry</td><td>6</td><td>2022-10-13 10:16:55</td><td>10</td></tr>\n",
       "<tr><td>Muffin</td><td>6</td><td>2022-10-13 10:16:55</td><td>10</td></tr>\n",
       "<tr><td>Medialuna</td><td>7</td><td>2022-10-13 10:19:12</td><td>10</td></tr>\n",
       "<tr><td>Pastry</td><td>7</td><td>2022-10-13 10:19:12</td><td>10</td></tr>\n",
       "<tr><td>Coffee</td><td>7</td><td>2022-10-13 10:19:12</td><td>10</td></tr>\n",
       "<tr><td>Tea</td><td>7</td><td>2022-10-13 10:19:12</td><td>10</td></tr>\n",
       "<tr><td>Pastry</td><td>8</td><td>2022-10-13 10:20:51</td><td>10</td></tr>\n",
       "<tr><td>Bread</td><td>8</td><td>2022-10-13 10:20:51</td><td>10</td></tr>\n",
       "<tr><td>Bread</td><td>9</td><td>2022-10-13 10:21:59</td><td>10</td></tr>\n",
       "</table>\n",
       "only showing top 20 rows\n"
      ],
      "text/plain": [
       "+-------------+-----------+-------------------+----------+\n",
       "|         Item|Transaction|               Time|hour(Time)|\n",
       "+-------------+-----------+-------------------+----------+\n",
       "|        Bread|          1|2022-10-13 09:58:11|         9|\n",
       "| Scandinavian|          2|2022-10-13 10:05:34|        10|\n",
       "| Scandinavian|          2|2022-10-13 10:05:34|        10|\n",
       "|Hot chocolate|          3|2022-10-13 10:07:57|        10|\n",
       "|          Jam|          3|2022-10-13 10:07:57|        10|\n",
       "|      Cookies|          3|2022-10-13 10:07:57|        10|\n",
       "|       Muffin|          4|2022-10-13 10:08:41|        10|\n",
       "|       Coffee|          5|2022-10-13 10:13:03|        10|\n",
       "|       Pastry|          5|2022-10-13 10:13:03|        10|\n",
       "|        Bread|          5|2022-10-13 10:13:03|        10|\n",
       "|    Medialuna|          6|2022-10-13 10:16:55|        10|\n",
       "|       Pastry|          6|2022-10-13 10:16:55|        10|\n",
       "|       Muffin|          6|2022-10-13 10:16:55|        10|\n",
       "|    Medialuna|          7|2022-10-13 10:19:12|        10|\n",
       "|       Pastry|          7|2022-10-13 10:19:12|        10|\n",
       "|       Coffee|          7|2022-10-13 10:19:12|        10|\n",
       "|          Tea|          7|2022-10-13 10:19:12|        10|\n",
       "|       Pastry|          8|2022-10-13 10:20:51|        10|\n",
       "|        Bread|          8|2022-10-13 10:20:51|        10|\n",
       "|        Bread|          9|2022-10-13 10:21:59|        10|\n",
       "+-------------+-----------+-------------------+----------+\n",
       "only showing top 20 rows"
      ]
     },
     "execution_count": 3,
     "metadata": {},
     "output_type": "execute_result"
    }
   ],
   "source": [
    "from pyspark.sql.functions import avg, col, desc, hour\n",
    "BreadBasket.select(\"Item\",\"Transaction\",\"Time\",hour(col(\"Time\")))"
   ]
  },
  {
   "cell_type": "markdown",
   "id": "0834345c-0b51-46aa-a8d5-ad7677a64544",
   "metadata": {},
   "source": []
  },
  {
   "cell_type": "code",
   "execution_count": 4,
   "id": "7f4fd8bb-b751-44f1-bd50-056caae1b6cd",
   "metadata": {},
   "outputs": [
    {
     "name": "stderr",
     "output_type": "stream",
     "text": [
      "[Stage 4:>                                                          (0 + 1) / 1]\r"
     ]
    },
    {
     "name": "stdout",
     "output_type": "stream",
     "text": [
      "+------+------------------+\n",
      "|  Item|count(Transaction)|\n",
      "+------+------------------+\n",
      "|Coffee|              5259|\n",
      "| Bread|              3151|\n",
      "|   Tea|              1414|\n",
      "|  Cake|              1017|\n",
      "|Pastry|               797|\n",
      "+------+------------------+\n",
      "\n"
     ]
    },
    {
     "name": "stderr",
     "output_type": "stream",
     "text": [
      "                                                                                \r"
     ]
    }
   ],
   "source": [
    "#Using Python\n",
    "#BreadBasket_filter.where(.groupby(\"Item\").count().sort(desc(\"count\")).show(5) Have to add hours\n",
    " \n",
    "\n",
    "#Using SQL\n",
    "BreadBasket.createOrReplaceTempView(\"BreadBasket\")\n",
    "maxSql = spark.sql(\"\"\" \n",
    "SELECT Item, count(Transaction)\n",
    "FROM BreadBasket \n",
    "WHERE date_part('HOUR', Time) >= 9 and date_part('HOUR', Time) < 23\n",
    "GROUP BY Item\n",
    "ORDER BY count(Transaction) DESC\n",
    "LIMIT 5 \"\"\")\n",
    "maxSql.show()"
   ]
  },
  {
   "cell_type": "code",
   "execution_count": null,
   "id": "6535a426-50ad-4f89-9b37-c238a2690352",
   "metadata": {},
   "outputs": [],
   "source": []
  },
  {
   "cell_type": "code",
   "execution_count": null,
   "id": "b7ac00dc-28ca-46e6-9437-2d700b0b9609",
   "metadata": {},
   "outputs": [],
   "source": []
  },
  {
   "cell_type": "markdown",
   "id": "de3f5bf3-7973-462b-80e8-2f6210a7a370",
   "metadata": {},
   "source": [
    "### Q2"
   ]
  },
  {
   "cell_type": "code",
   "execution_count": 5,
   "id": "de10df8b-44a2-4391-b6e7-9769f17176df",
   "metadata": {},
   "outputs": [],
   "source": [
    "Restaurants = spark.read.option(\"inferSchema\", \"true\").option(\"header\", \"true\").csv(\"shared/hw2/Restaurants_in_Durham_County_NC.csv\",sep=';')"
   ]
  },
  {
   "cell_type": "code",
   "execution_count": 6,
   "id": "516b5cdf-5f0e-48e0-b073-6a9d856f54b9",
   "metadata": {},
   "outputs": [
    {
     "data": {
      "text/html": [
       "<table border='1'>\n",
       "<tr><th>ID</th><th>Premise_Name</th><th>Premise_Address1</th><th>Premise_Address2</th><th>Premise_City</th><th>Premise_State</th><th>Premise_Zip</th><th>Premise_Phone</th><th>Hours_Of_Operation</th><th>Opening_Date</th><th>Closing_Date</th><th>Seats</th><th>Water</th><th>Sewage</th><th>Insp_Freq</th><th>Est_Group_Desc</th><th>Risk</th><th>Smoking_Allowed</th><th>Type_Description</th><th>Rpt_Area_Desc</th><th>Status</th><th>Transitional_Type_Desc</th><th>geolocation</th></tr>\n",
       "<tr><td>56060</td><td>WEST 94TH ST PUB</td><td>4711 HOPE VALLEY RD</td><td>SUITE 6C</td><td>DURHAM</td><td>NC</td><td>27707</td><td>(919) 403-0025</td><td>null</td><td>1994-09-01</td><td>null</td><td>60</td><td>5 - Municipal/Com...</td><td>3 - Municipal/Com...</td><td>4</td><td>Full-Service Rest...</td><td>4</td><td>NO</td><td>1 - Restaurant</td><td>Food Service</td><td>ACTIVE</td><td>FOOD</td><td>35.9207272, -78.9...</td></tr>\n",
       "<tr><td>58123</td><td>BROOKDALE DURHAM IFS</td><td>4434 BEN FRANKLIN...</td><td>null</td><td>DURHAM</td><td>NC</td><td>27704</td><td>(919) 479-9966</td><td>null</td><td>2003-10-15</td><td>null</td><td>350</td><td>5 - Municipal/Com...</td><td>3 - Municipal/Com...</td><td>4</td><td>Nursing Home</td><td>4</td><td>NO</td><td>16 - Institutiona...</td><td>Food Service</td><td>ACTIVE</td><td>FOOD</td><td>36.0467802, -78.8...</td></tr>\n",
       "<tr><td>70266</td><td>SMOOTHIE KING</td><td>1125 W. NC HWY 54...</td><td>null</td><td>DURHAM</td><td>NC</td><td>27707</td><td>(919) 489-7300</td><td>null</td><td>2009-07-09</td><td>null</td><td>7</td><td>5 - Municipal/Com...</td><td>3 - Municipal/Com...</td><td>2</td><td>Fast Food Restaurant</td><td>2</td><td>NO</td><td>1 - Restaurant</td><td>Food Service</td><td>ACTIVE</td><td>FOOD</td><td>35.9182655, -78.9...</td></tr>\n",
       "<tr><td>97837</td><td>HAMPTON INN &amp; SUITES</td><td>1542 N GREGSON ST</td><td>null</td><td>DURHAM</td><td>NC</td><td>27701</td><td>(919) 688-8880</td><td>null</td><td>2012-01-09</td><td>null</td><td>100</td><td>5 - Municipal/Com...</td><td>3 - Municipal/Com...</td><td>2</td><td>Full-Service Rest...</td><td>2</td><td>NO</td><td>1 - Restaurant</td><td>Food Service</td><td>ACTIVE</td><td>FOOD</td><td>36.0183378, -78.9...</td></tr>\n",
       "<tr><td>60690</td><td>BETTER LIVING CON...</td><td>909 GARCIA ST</td><td>null</td><td>DURHAM</td><td>NC</td><td>27704</td><td>(919) 477-5825</td><td>null</td><td>2008-06-02</td><td>null</td><td>6</td><td>5 - Municipal/Com...</td><td>3 - Municipal/Com...</td><td>1</td><td>null</td><td>0</td><td>N/A</td><td>43 - Residential ...</td><td>Residential Care</td><td>ACTIVE</td><td>N/A</td><td>36.0556347, -78.9...</td></tr>\n",
       "<tr><td>60686</td><td>ADVENTURE HOUSE</td><td>4 KIMBROUGH COURT</td><td>null</td><td>DURHAM</td><td>NC</td><td>27703</td><td>(919) 957-9097</td><td>null</td><td>2008-06-02</td><td>null</td><td>0</td><td>5 - Municipal/Com...</td><td>3 - Municipal/Com...</td><td>1</td><td>null</td><td>0</td><td>N/A</td><td>43 - Residential ...</td><td>Residential Care</td><td>ACTIVE</td><td>N/A</td><td>35.984012, -78.80...</td></tr>\n",
       "<tr><td>85252</td><td>ANOTHER BEAUTIFUL...</td><td>1309 ANGIER AVE.</td><td>null</td><td>DURHAM</td><td>NC</td><td>27701</td><td>(919) 682-5292</td><td>null</td><td>2010-08-23</td><td>null</td><td>null</td><td>5 - Municipal/Com...</td><td>3 - Municipal/Com...</td><td>2</td><td>null</td><td>0</td><td>NO</td><td>42 - Child Care</td><td>Day Care</td><td>ACTIVE</td><td>N/A</td><td>35.9857413, -78.8...</td></tr>\n",
       "<tr><td>59120</td><td>BRIDGES AT SOUTHP...</td><td>7304 CALIBRE PARK DR</td><td>null</td><td>DURHAM</td><td>NC</td><td>27707</td><td>null</td><td>null</td><td>1996-04-02</td><td>null</td><td>0</td><td>5 - Municipal/Com...</td><td>3 - Municipal/Com...</td><td>2</td><td>null</td><td>0</td><td>N/A</td><td>53 - Year-Round S...</td><td>Swimming Pools</td><td>ACTIVE</td><td>N/A</td><td>35.913596, -78.96...</td></tr>\n",
       "<tr><td>59124</td><td>SHEARTON INN UNIV...</td><td>2800 CAMPUS WALK AVE</td><td>null</td><td>DURHAM</td><td>NC</td><td>27705</td><td>null</td><td>null</td><td>1996-04-25</td><td>null</td><td>0</td><td>5 - Municipal/Com...</td><td>3 - Municipal/Com...</td><td>2</td><td>null</td><td>0</td><td>N/A</td><td>53 - Year-Round S...</td><td>Swimming Pools</td><td>ACTIVE</td><td>N/A</td><td>36.0111429, -78.9...</td></tr>\n",
       "<tr><td>59263</td><td>SPA HEALTH CLUB</td><td>3419 HILLSBOROUGH RD</td><td>null</td><td>DURHAM</td><td>NC</td><td>27705</td><td>null</td><td>null</td><td>2000-05-30</td><td>null</td><td>0</td><td>5 - Municipal/Com...</td><td>3 - Municipal/Com...</td><td>2</td><td>null</td><td>0</td><td>N/A</td><td>55 - Year-Round Spa</td><td>Swimming Pools</td><td>ACTIVE</td><td>N/A</td><td>36.0184133, -78.9...</td></tr>\n",
       "<tr><td>58349</td><td>KROGER R 381 MEAT...</td><td>3825 S ROXBORO ST</td><td>SUITE 101</td><td>DURHAM</td><td>NC</td><td>27707</td><td>(919) 361-0470</td><td>null</td><td>2003-03-03</td><td>null</td><td>0</td><td>5 - Municipal/Com...</td><td>3 - Municipal/Com...</td><td>3</td><td>Meat and Poultry ...</td><td>3</td><td>N/A</td><td>30 - Meat Market</td><td>Food Service</td><td>ACTIVE</td><td>FOOD</td><td>35.9495321, -78.9...</td></tr>\n",
       "<tr><td>58342</td><td>LEONE INTERNATION...</td><td>810 FAYETTEVILLE ST</td><td>SUITE 108</td><td>DURHAM</td><td>NC</td><td>27701</td><td>(919) 680-0800</td><td>null</td><td>2001-08-17</td><td>null</td><td>0</td><td>5 - Municipal/Com...</td><td>3 - Municipal/Com...</td><td>3</td><td>null</td><td>3</td><td>NO</td><td>30 - Meat Market</td><td>Food Service</td><td>ACTIVE</td><td>FOOD</td><td>35.9852771, -78.8...</td></tr>\n",
       "<tr><td>57278</td><td>PIZZA HUT DELIVERY</td><td>3808 GUESS ROAD</td><td>null</td><td>DURHAM</td><td>NC</td><td>27705</td><td>(919) 477-7377</td><td>null</td><td>1990-07-01</td><td>null</td><td>0</td><td>5 - Municipal/Com...</td><td>3 - Municipal/Com...</td><td>2</td><td>Fast Food Restaurant</td><td>2</td><td>N/A</td><td>2 - Food Stands</td><td>Food Service</td><td>ACTIVE</td><td>FOOD</td><td>36.0586094, -78.9...</td></tr>\n",
       "<tr><td>57190</td><td>CHUBBYS TACOS</td><td>748 NINTH STREET</td><td>null</td><td>DURHAM</td><td>NC</td><td>27705</td><td>(919) 286-4499</td><td>null</td><td>2008-04-18</td><td>null</td><td>36</td><td>5 - Municipal/Com...</td><td>3 - Municipal/Com...</td><td>4</td><td>Fast Food Restaurant</td><td>4</td><td>N/A</td><td>1 - Restaurant</td><td>Food Service</td><td>ACTIVE</td><td>FOOD</td><td>36.0094173, -78.9...</td></tr>\n",
       "<tr><td>57585</td><td>SUBWAY</td><td>1058 W CLUB</td><td>null</td><td>DURHAM</td><td>NC</td><td>27701</td><td>(919) 286-9681</td><td>null</td><td>1999-01-19</td><td>null</td><td>0</td><td>5 - Municipal/Com...</td><td>3 - Municipal/Com...</td><td>2</td><td>Fast Food Restaurant</td><td>2</td><td>NO</td><td>2 - Food Stands</td><td>Food Service</td><td>ACTIVE</td><td>FOOD</td><td>36.018111, -78.91...</td></tr>\n",
       "<tr><td>59132</td><td>DUKE UNIVERSITY A...</td><td>AQUATIC CENTER WE...</td><td>200 FACILITIES CTR</td><td>DURHAM</td><td>NC</td><td>27708</td><td>null</td><td>null</td><td>1996-01-30</td><td>null</td><td>0</td><td>5 - Municipal/Com...</td><td>3 - Municipal/Com...</td><td>2</td><td>null</td><td>0</td><td>N/A</td><td>53 - Year-Round S...</td><td>Swimming Pools</td><td>ACTIVE</td><td>N/A</td><td>35.9973617, -78.9...</td></tr>\n",
       "<tr><td>58444</td><td>DEBORAH&#x27;S DAY CARE</td><td>1801 STAGE RD</td><td>null</td><td>DURHAM</td><td>NC</td><td>27703</td><td>(919) 596-3636</td><td>null</td><td>1994-08-11</td><td>null</td><td>12</td><td>5 - Municipal/Com...</td><td>3 - Municipal/Com...</td><td>2</td><td>null</td><td>0</td><td>N/A</td><td>42 - Child Care</td><td>Day Care</td><td>ACTIVE</td><td>N/A</td><td>35.946055, -78.84444</td></tr>\n",
       "<tr><td>59136</td><td>EMERALD FOREST AP...</td><td>4512 EMERALD FORE...</td><td>null</td><td>DURHAM</td><td>NC</td><td>27713</td><td>null</td><td>null</td><td>1996-01-30</td><td>null</td><td>0</td><td>5 - Municipal/Com...</td><td>3 - Municipal/Com...</td><td>2</td><td>null</td><td>0</td><td>N/A</td><td>53 - Year-Round S...</td><td>Swimming Pools</td><td>ACTIVE</td><td>N/A</td><td>35.9039037, -78.9...</td></tr>\n",
       "<tr><td>59038</td><td>AUBURN SWIM CLUB</td><td>1105 PEBBLE CREEK...</td><td>null</td><td>DURHAM</td><td>NC</td><td>27713</td><td>null</td><td>null</td><td>2002-09-18</td><td>null</td><td>0</td><td>5 - Municipal/Com...</td><td>3 - Municipal/Com...</td><td>1</td><td>null</td><td>0</td><td>N/A</td><td>50 - Seasonal Swi...</td><td>Swimming Pools</td><td>ACTIVE</td><td>N/A</td><td>35.913281, -78.91466</td></tr>\n",
       "<tr><td>178137</td><td>DUKE UNIVERSITY W...</td><td>406 CHAPEL DRIVE</td><td>PO BOX 90898</td><td>DURHAM</td><td>NC</td><td>27708</td><td>(919) 660-3900</td><td>null</td><td>2016-07-11</td><td>null</td><td>100</td><td>5 - Municipal/Com...</td><td>3 - Municipal/Com...</td><td>4</td><td>Fast Food Restaurant</td><td>4</td><td>N/A</td><td>6 - Edu. Food Ser...</td><td>Food Service</td><td>ACTIVE</td><td>FOOD</td><td>36.001517, -78.93...</td></tr>\n",
       "</table>\n",
       "only showing top 20 rows\n"
      ],
      "text/plain": [
       "+------+--------------------+--------------------+------------------+------------+-------------+-----------+--------------+------------------+------------+------------+-----+--------------------+--------------------+---------+--------------------+----+---------------+--------------------+----------------+------+----------------------+--------------------+\n",
       "|    ID|        Premise_Name|    Premise_Address1|  Premise_Address2|Premise_City|Premise_State|Premise_Zip| Premise_Phone|Hours_Of_Operation|Opening_Date|Closing_Date|Seats|               Water|              Sewage|Insp_Freq|      Est_Group_Desc|Risk|Smoking_Allowed|    Type_Description|   Rpt_Area_Desc|Status|Transitional_Type_Desc|         geolocation|\n",
       "+------+--------------------+--------------------+------------------+------------+-------------+-----------+--------------+------------------+------------+------------+-----+--------------------+--------------------+---------+--------------------+----+---------------+--------------------+----------------+------+----------------------+--------------------+\n",
       "| 56060|    WEST 94TH ST PUB| 4711 HOPE VALLEY RD|          SUITE 6C|      DURHAM|           NC|      27707|(919) 403-0025|              null|  1994-09-01|        null|   60|5 - Municipal/Com...|3 - Municipal/Com...|        4|Full-Service Rest...|   4|             NO|      1 - Restaurant|    Food Service|ACTIVE|                  FOOD|35.9207272, -78.9...|\n",
       "| 58123|BROOKDALE DURHAM IFS|4434 BEN FRANKLIN...|              null|      DURHAM|           NC|      27704|(919) 479-9966|              null|  2003-10-15|        null|  350|5 - Municipal/Com...|3 - Municipal/Com...|        4|        Nursing Home|   4|             NO|16 - Institutiona...|    Food Service|ACTIVE|                  FOOD|36.0467802, -78.8...|\n",
       "| 70266|       SMOOTHIE KING|1125 W. NC HWY 54...|              null|      DURHAM|           NC|      27707|(919) 489-7300|              null|  2009-07-09|        null|    7|5 - Municipal/Com...|3 - Municipal/Com...|        2|Fast Food Restaurant|   2|             NO|      1 - Restaurant|    Food Service|ACTIVE|                  FOOD|35.9182655, -78.9...|\n",
       "| 97837|HAMPTON INN & SUITES|   1542 N GREGSON ST|              null|      DURHAM|           NC|      27701|(919) 688-8880|              null|  2012-01-09|        null|  100|5 - Municipal/Com...|3 - Municipal/Com...|        2|Full-Service Rest...|   2|             NO|      1 - Restaurant|    Food Service|ACTIVE|                  FOOD|36.0183378, -78.9...|\n",
       "| 60690|BETTER LIVING CON...|       909 GARCIA ST|              null|      DURHAM|           NC|      27704|(919) 477-5825|              null|  2008-06-02|        null|    6|5 - Municipal/Com...|3 - Municipal/Com...|        1|                null|   0|            N/A|43 - Residential ...|Residential Care|ACTIVE|                   N/A|36.0556347, -78.9...|\n",
       "| 60686|     ADVENTURE HOUSE|   4 KIMBROUGH COURT|              null|      DURHAM|           NC|      27703|(919) 957-9097|              null|  2008-06-02|        null|    0|5 - Municipal/Com...|3 - Municipal/Com...|        1|                null|   0|            N/A|43 - Residential ...|Residential Care|ACTIVE|                   N/A|35.984012, -78.80...|\n",
       "| 85252|ANOTHER BEAUTIFUL...|    1309 ANGIER AVE.|              null|      DURHAM|           NC|      27701|(919) 682-5292|              null|  2010-08-23|        null| null|5 - Municipal/Com...|3 - Municipal/Com...|        2|                null|   0|             NO|     42 - Child Care|        Day Care|ACTIVE|                   N/A|35.9857413, -78.8...|\n",
       "| 59120|BRIDGES AT SOUTHP...|7304 CALIBRE PARK DR|              null|      DURHAM|           NC|      27707|          null|              null|  1996-04-02|        null|    0|5 - Municipal/Com...|3 - Municipal/Com...|        2|                null|   0|            N/A|53 - Year-Round S...|  Swimming Pools|ACTIVE|                   N/A|35.913596, -78.96...|\n",
       "| 59124|SHEARTON INN UNIV...|2800 CAMPUS WALK AVE|              null|      DURHAM|           NC|      27705|          null|              null|  1996-04-25|        null|    0|5 - Municipal/Com...|3 - Municipal/Com...|        2|                null|   0|            N/A|53 - Year-Round S...|  Swimming Pools|ACTIVE|                   N/A|36.0111429, -78.9...|\n",
       "| 59263|     SPA HEALTH CLUB|3419 HILLSBOROUGH RD|              null|      DURHAM|           NC|      27705|          null|              null|  2000-05-30|        null|    0|5 - Municipal/Com...|3 - Municipal/Com...|        2|                null|   0|            N/A| 55 - Year-Round Spa|  Swimming Pools|ACTIVE|                   N/A|36.0184133, -78.9...|\n",
       "| 58349|KROGER R 381 MEAT...|   3825 S ROXBORO ST|         SUITE 101|      DURHAM|           NC|      27707|(919) 361-0470|              null|  2003-03-03|        null|    0|5 - Municipal/Com...|3 - Municipal/Com...|        3|Meat and Poultry ...|   3|            N/A|    30 - Meat Market|    Food Service|ACTIVE|                  FOOD|35.9495321, -78.9...|\n",
       "| 58342|LEONE INTERNATION...| 810 FAYETTEVILLE ST|         SUITE 108|      DURHAM|           NC|      27701|(919) 680-0800|              null|  2001-08-17|        null|    0|5 - Municipal/Com...|3 - Municipal/Com...|        3|                null|   3|             NO|    30 - Meat Market|    Food Service|ACTIVE|                  FOOD|35.9852771, -78.8...|\n",
       "| 57278|  PIZZA HUT DELIVERY|     3808 GUESS ROAD|              null|      DURHAM|           NC|      27705|(919) 477-7377|              null|  1990-07-01|        null|    0|5 - Municipal/Com...|3 - Municipal/Com...|        2|Fast Food Restaurant|   2|            N/A|     2 - Food Stands|    Food Service|ACTIVE|                  FOOD|36.0586094, -78.9...|\n",
       "| 57190|       CHUBBYS TACOS|    748 NINTH STREET|              null|      DURHAM|           NC|      27705|(919) 286-4499|              null|  2008-04-18|        null|   36|5 - Municipal/Com...|3 - Municipal/Com...|        4|Fast Food Restaurant|   4|            N/A|      1 - Restaurant|    Food Service|ACTIVE|                  FOOD|36.0094173, -78.9...|\n",
       "| 57585|              SUBWAY|         1058 W CLUB|              null|      DURHAM|           NC|      27701|(919) 286-9681|              null|  1999-01-19|        null|    0|5 - Municipal/Com...|3 - Municipal/Com...|        2|Fast Food Restaurant|   2|             NO|     2 - Food Stands|    Food Service|ACTIVE|                  FOOD|36.018111, -78.91...|\n",
       "| 59132|DUKE UNIVERSITY A...|AQUATIC CENTER WE...|200 FACILITIES CTR|      DURHAM|           NC|      27708|          null|              null|  1996-01-30|        null|    0|5 - Municipal/Com...|3 - Municipal/Com...|        2|                null|   0|            N/A|53 - Year-Round S...|  Swimming Pools|ACTIVE|                   N/A|35.9973617, -78.9...|\n",
       "| 58444|  DEBORAH'S DAY CARE|       1801 STAGE RD|              null|      DURHAM|           NC|      27703|(919) 596-3636|              null|  1994-08-11|        null|   12|5 - Municipal/Com...|3 - Municipal/Com...|        2|                null|   0|            N/A|     42 - Child Care|        Day Care|ACTIVE|                   N/A|35.946055, -78.84444|\n",
       "| 59136|EMERALD FOREST AP...|4512 EMERALD FORE...|              null|      DURHAM|           NC|      27713|          null|              null|  1996-01-30|        null|    0|5 - Municipal/Com...|3 - Municipal/Com...|        2|                null|   0|            N/A|53 - Year-Round S...|  Swimming Pools|ACTIVE|                   N/A|35.9039037, -78.9...|\n",
       "| 59038|    AUBURN SWIM CLUB|1105 PEBBLE CREEK...|              null|      DURHAM|           NC|      27713|          null|              null|  2002-09-18|        null|    0|5 - Municipal/Com...|3 - Municipal/Com...|        1|                null|   0|            N/A|50 - Seasonal Swi...|  Swimming Pools|ACTIVE|                   N/A|35.913281, -78.91466|\n",
       "|178137|DUKE UNIVERSITY W...|    406 CHAPEL DRIVE|      PO BOX 90898|      DURHAM|           NC|      27708|(919) 660-3900|              null|  2016-07-11|        null|  100|5 - Municipal/Com...|3 - Municipal/Com...|        4|Fast Food Restaurant|   4|            N/A|6 - Edu. Food Ser...|    Food Service|ACTIVE|                  FOOD|36.001517, -78.93...|\n",
       "+------+--------------------+--------------------+------------------+------------+-------------+-----------+--------------+------------------+------------+------------+-----+--------------------+--------------------+---------+--------------------+----+---------------+--------------------+----------------+------+----------------------+--------------------+\n",
       "only showing top 20 rows"
      ]
     },
     "execution_count": 6,
     "metadata": {},
     "output_type": "execute_result"
    }
   ],
   "source": [
    "Restaurants"
   ]
  },
  {
   "cell_type": "code",
   "execution_count": 7,
   "id": "efbc024f-e96b-4cb8-b094-c25b710b2789",
   "metadata": {},
   "outputs": [
    {
     "name": "stdout",
     "output_type": "stream",
     "text": [
      "2472\n",
      "Shows that ID is the primary key as no of rows in df and id count is same\n"
     ]
    }
   ],
   "source": [
    "print(Restaurants.select(\"Id\").count())\n",
    "print(\"Shows that ID is the primary key as no of rows in df and id count is same\")"
   ]
  },
  {
   "cell_type": "markdown",
   "id": "25ef3240-e9d1-4ac5-964f-a9c86ce3ecb9",
   "metadata": {},
   "source": [
    "Method 1 "
   ]
  },
  {
   "cell_type": "code",
   "execution_count": 8,
   "id": "1b162f2a-ff2e-414d-b0c9-1cbb21080e8b",
   "metadata": {},
   "outputs": [
    {
     "data": {
      "text/html": [
       "<table border='1'>\n",
       "<tr><th>Rpt_Area_Desc</th><th>count</th></tr>\n",
       "<tr><td>Food Service</td><td>1093</td></tr>\n",
       "<tr><td>Swimming Pools</td><td>420</td></tr>\n",
       "<tr><td>Summer Food</td><td>242</td></tr>\n",
       "<tr><td>Day Care</td><td>173</td></tr>\n",
       "<tr><td>Residential Care</td><td>154</td></tr>\n",
       "<tr><td>Mobile Food</td><td>147</td></tr>\n",
       "<tr><td>School Buildings</td><td>89</td></tr>\n",
       "<tr><td>Lodging</td><td>62</td></tr>\n",
       "<tr><td>Tattoo Establishm...</td><td>32</td></tr>\n",
       "<tr><td>Institutions</td><td>30</td></tr>\n",
       "<tr><td>null</td><td>13</td></tr>\n",
       "<tr><td>Adult Day Care</td><td>5</td></tr>\n",
       "<tr><td>Bed&amp;Breakfast Home</td><td>4</td></tr>\n",
       "<tr><td>Summer Camps</td><td>4</td></tr>\n",
       "<tr><td>Local Confinement</td><td>2</td></tr>\n",
       "<tr><td>Bed&amp;Breakfast Inn</td><td>2</td></tr>\n",
       "</table>\n"
      ],
      "text/plain": [
       "+--------------------+-----+\n",
       "|       Rpt_Area_Desc|count|\n",
       "+--------------------+-----+\n",
       "|        Food Service| 1093|\n",
       "|      Swimming Pools|  420|\n",
       "|         Summer Food|  242|\n",
       "|            Day Care|  173|\n",
       "|    Residential Care|  154|\n",
       "|         Mobile Food|  147|\n",
       "|    School Buildings|   89|\n",
       "|             Lodging|   62|\n",
       "|Tattoo Establishm...|   32|\n",
       "|        Institutions|   30|\n",
       "|                null|   13|\n",
       "|      Adult Day Care|    5|\n",
       "|  Bed&Breakfast Home|    4|\n",
       "|        Summer Camps|    4|\n",
       "|   Local Confinement|    2|\n",
       "|   Bed&Breakfast Inn|    2|\n",
       "+--------------------+-----+"
      ]
     },
     "execution_count": 8,
     "metadata": {},
     "output_type": "execute_result"
    }
   ],
   "source": [
    "Restaurants.select(\"Rpt_Area_Desc\").groupby(\"Rpt_Area_Desc\").count().sort(desc(\"count\"))"
   ]
  },
  {
   "cell_type": "markdown",
   "id": "53973ac3-cd6d-4bc1-9969-c39f96d72a59",
   "metadata": {},
   "source": [
    "Method 2 "
   ]
  },
  {
   "cell_type": "code",
   "execution_count": 9,
   "id": "2a944ed5-155d-4056-bae4-f486906b6576",
   "metadata": {},
   "outputs": [
    {
     "name": "stdout",
     "output_type": "stream",
     "text": [
      "+--------------------+---------+\n",
      "|       Rpt_Area_Desc|count(Id)|\n",
      "+--------------------+---------+\n",
      "|        Food Service|     1093|\n",
      "|      Swimming Pools|      420|\n",
      "|         Summer Food|      242|\n",
      "|            Day Care|      173|\n",
      "|    Residential Care|      154|\n",
      "|         Mobile Food|      147|\n",
      "|    School Buildings|       89|\n",
      "|             Lodging|       62|\n",
      "|Tattoo Establishm...|       32|\n",
      "|        Institutions|       30|\n",
      "|                null|       13|\n",
      "|      Adult Day Care|        5|\n",
      "|  Bed&Breakfast Home|        4|\n",
      "|        Summer Camps|        4|\n",
      "|   Local Confinement|        2|\n",
      "|   Bed&Breakfast Inn|        2|\n",
      "+--------------------+---------+\n",
      "\n"
     ]
    }
   ],
   "source": [
    "Restaurants.createOrReplaceTempView(\"Restaurants\")\n",
    "maxSql = spark.sql(\"\"\" \n",
    "SELECT Rpt_Area_Desc, count(Id)\n",
    "FROM Restaurants \n",
    "GROUP BY Rpt_Area_Desc\n",
    "ORDER BY count(Id) desc\n",
    "\"\"\")\n",
    "maxSql.show()"
   ]
  },
  {
   "cell_type": "code",
   "execution_count": null,
   "id": "781e5350-638f-45d1-a289-5a474e2cdb07",
   "metadata": {},
   "outputs": [],
   "source": []
  },
  {
   "cell_type": "markdown",
   "id": "3618bafd-81bb-46bd-851f-11fc51f05c03",
   "metadata": {},
   "source": [
    "### Q3"
   ]
  },
  {
   "cell_type": "code",
   "execution_count": 10,
   "id": "ff9440bf-9e9b-45c8-ae54-cd979193538f",
   "metadata": {},
   "outputs": [
    {
     "name": "stdout",
     "output_type": "stream",
     "text": [
      "22/10/13 05:36:19 WARN package: Truncated the string representation of a plan since it was too large. This behavior can be adjusted by setting 'spark.sql.debug.maxToStringFields'.\n"
     ]
    },
    {
     "data": {
      "text/html": [
       "<table border='1'>\n",
       "<tr><th>_c0</th><th>1980</th><th>1981</th><th>1982</th><th>1983</th><th>1984</th><th>1985</th><th>1986</th><th>1987</th><th>1988</th><th>1989</th><th>1990</th><th>1991</th><th>1992</th><th>1993</th><th>1994</th><th>1995</th><th>1996</th><th>1997</th><th>1998</th><th>1999</th><th>2000</th><th>2001</th><th>2002</th><th>2003</th><th>2004</th><th>2005</th><th>2006</th><th>2007</th><th>2008</th><th>2009</th><th>2010</th></tr>\n",
       "<tr><td>North America</td><td>320.27638</td><td>324.44694</td><td>328.62014</td><td>332.72487</td><td>336.72143</td><td>340.74811</td><td>344.89548</td><td>349.07829</td><td>353.2939</td><td>357.68457</td><td>362.4468</td><td>367.70684</td><td>373.29069</td><td>378.74233</td><td>383.9166</td><td>388.97216</td><td>393.9428</td><td>398.97205</td><td>403.85585</td><td>408.60296</td><td>413.3245</td><td>417.83236</td><td>422.05268</td><td>426.06238</td><td>430.26938</td><td>434.47232</td><td>438.82964</td><td>443.3473</td><td>447.67394</td><td>451.83698</td><td>456.59331</td></tr>\n",
       "<tr><td>Bermuda</td><td>0.05473</td><td>0.05491</td><td>0.05517</td><td>0.05551</td><td>0.05585</td><td>0.05618</td><td>0.05651</td><td>0.05683</td><td>0.05717</td><td>0.05749</td><td>0.05778</td><td>0.0581</td><td>0.0587</td><td>0.05924</td><td>0.05975</td><td>0.06029</td><td>0.06087</td><td>0.06145</td><td>0.06198</td><td>0.06251</td><td>0.06306</td><td>0.06361</td><td>0.06418</td><td>0.06476</td><td>0.06534</td><td>0.06591</td><td>0.06644</td><td>0.06692</td><td>0.06739</td><td>0.06784</td><td>0.06827</td></tr>\n",
       "<tr><td>Canada</td><td>24.5933</td><td>24.9</td><td>25.2019</td><td>25.4563</td><td>25.7018</td><td>25.9416</td><td>26.2038</td><td>26.5497</td><td>26.8948</td><td>27.3793</td><td>27.7906</td><td>28.1179</td><td>28.54489</td><td>28.95334</td><td>29.33081</td><td>29.69053</td><td>30.02632</td><td>30.3056</td><td>30.55166</td><td>30.82026</td><td>31.09956</td><td>31.37674</td><td>31.64096</td><td>31.88931</td><td>32.13476</td><td>32.38638</td><td>32.65668</td><td>32.93596</td><td>33.2127</td><td>33.48721</td><td>33.75974</td></tr>\n",
       "<tr><td>Greenland</td><td>0.05021</td><td>0.05103</td><td>0.05166</td><td>0.05211</td><td>0.05263</td><td>0.05315</td><td>0.05364</td><td>0.0541</td><td>0.05485</td><td>0.05541</td><td>0.05563</td><td>0.05554</td><td>0.05549</td><td>0.05564</td><td>0.05592</td><td>0.05619</td><td>0.05634</td><td>0.05651</td><td>0.05661</td><td>0.0567</td><td>0.05689</td><td>0.05713</td><td>0.05736</td><td>0.05754</td><td>0.0577</td><td>0.05778</td><td>0.05764</td><td>0.05753</td><td>0.05756</td><td>0.0576</td><td>0.05764</td></tr>\n",
       "<tr><td>Mexico</td><td>68.34748</td><td>69.96926</td><td>71.6409</td><td>73.36288</td><td>75.08014</td><td>76.76723</td><td>78.44243</td><td>80.12249</td><td>81.78182</td><td>83.36684</td><td>84.91365</td><td>86.48803</td><td>88.11103</td><td>89.74914</td><td>91.3379</td><td>92.88035</td><td>94.39858</td><td>95.89515</td><td>97.32506</td><td>98.61691</td><td>99.92662</td><td>101.24696</td><td>102.47993</td><td>103.71806</td><td>104.95959</td><td>106.2029</td><td>107.44953</td><td>108.70089</td><td>109.9554</td><td>111.21179</td><td>112.46886</td></tr>\n",
       "<tr><td>Saint Pierre and ...</td><td>0.00599</td><td>0.00601</td><td>0.00605</td><td>0.00607</td><td>0.00611</td><td>0.00616</td><td>0.00621</td><td>0.00625</td><td>0.00628</td><td>0.00631</td><td>0.00632</td><td>0.00633</td><td>0.00636</td><td>0.00638</td><td>0.0064</td><td>0.0064</td><td>0.00641</td><td>0.00642</td><td>0.00642</td><td>0.00643</td><td>0.00641</td><td>0.00637</td><td>0.00633</td><td>0.00629</td><td>0.00625</td><td>0.0062</td><td>0.00615</td><td>0.0061</td><td>0.00605</td><td>0.006</td><td>0.00594</td></tr>\n",
       "<tr><td>United States</td><td>227.22468</td><td>229.46571</td><td>231.66446</td><td>233.79199</td><td>235.8249</td><td>237.9238</td><td>240.13289</td><td>242.28892</td><td>244.49898</td><td>246.81923</td><td>249.62281</td><td>252.98094</td><td>256.51422</td><td>259.91859</td><td>263.12582</td><td>266.27839</td><td>269.39428</td><td>272.64693</td><td>275.8541</td><td>279.04017</td><td>282.17196</td><td>285.08156</td><td>287.80391</td><td>290.32642</td><td>293.04574</td><td>295.75315</td><td>298.59321</td><td>301.5799</td><td>304.37485</td><td>307.00655</td><td>310.23286</td></tr>\n",
       "<tr><td>Central &amp; South A...</td><td>293.05856</td><td>299.43033</td><td>305.95253</td><td>312.51136</td><td>318.87955</td><td>325.22704</td><td>331.82291</td><td>338.59859</td><td>345.44544</td><td>352.20471</td><td>358.79973</td><td>365.15137</td><td>371.43224</td><td>377.7438</td><td>384.26984</td><td>390.75665</td><td>397.13002</td><td>403.41352</td><td>409.62879</td><td>415.63607</td><td>421.4539</td><td>427.24012</td><td>433.05116</td><td>438.97976</td><td>445.01525</td><td>451.05504</td><td>457.01699</td><td>462.89157</td><td>468.73872</td><td>474.53897</td><td>480.01228</td></tr>\n",
       "<tr><td>Antarctica</td><td>NA</td><td>NA</td><td>NA</td><td>NA</td><td>NA</td><td>NA</td><td>NA</td><td>NA</td><td>NA</td><td>NA</td><td>NA</td><td>NA</td><td>NA</td><td>NA</td><td>NA</td><td>NA</td><td>NA</td><td>NA</td><td>NA</td><td>NA</td><td>NA</td><td>NA</td><td>NA</td><td>NA</td><td>NA</td><td>NA</td><td>NA</td><td>NA</td><td>NA</td><td>NA</td><td>NA</td></tr>\n",
       "<tr><td>Antigua and Barbuda</td><td>0.06855</td><td>0.06826</td><td>0.06801</td><td>0.06562</td><td>0.06447</td><td>0.0644</td><td>0.0644</td><td>0.06442</td><td>0.06443</td><td>0.06439</td><td>0.06416</td><td>0.06403</td><td>0.06518</td><td>0.06633</td><td>0.06749</td><td>0.06871</td><td>0.07006</td><td>0.07145</td><td>0.07278</td><td>0.07402</td><td>0.07535</td><td>0.07673</td><td>0.07794</td><td>0.07907</td><td>0.08019</td><td>0.08128</td><td>0.08234</td><td>0.08343</td><td>0.08452</td><td>0.08563</td><td>0.08675</td></tr>\n",
       "<tr><td>Argentina</td><td>28.3698</td><td>28.84806</td><td>29.32988</td><td>29.79355</td><td>30.23064</td><td>30.67176</td><td>31.14499</td><td>31.62462</td><td>32.09932</td><td>32.57162</td><td>33.03558</td><td>33.50441</td><td>33.96685</td><td>34.40715</td><td>34.84689</td><td>35.27384</td><td>35.68296</td><td>36.10216</td><td>36.51792</td><td>36.92342</td><td>37.33565</td><td>37.69417</td><td>37.99945</td><td>38.33688</td><td>38.74183</td><td>39.18126</td><td>39.61443</td><td>40.04882</td><td>40.482</td><td>40.91358</td><td>41.3432</td></tr>\n",
       "<tr><td>Aruba</td><td>--</td><td>--</td><td>--</td><td>--</td><td>--</td><td>--</td><td>0.0598</td><td>0.05918</td><td>0.0595</td><td>0.06069</td><td>0.06303</td><td>0.0663</td><td>0.06948</td><td>0.07407</td><td>0.07785</td><td>0.07996</td><td>0.08307</td><td>0.08621</td><td>0.0882</td><td>0.08926</td><td>0.09</td><td>0.09097</td><td>0.09217</td><td>0.09372</td><td>0.09546</td><td>0.09698</td><td>0.0985</td><td>0.10002</td><td>0.10154</td><td>0.10307</td><td>0.10459</td></tr>\n",
       "<tr><td>Bahamas, The</td><td>0.20976</td><td>0.21345</td><td>0.21713</td><td>0.22086</td><td>0.22462</td><td>0.2282</td><td>0.23143</td><td>0.23448</td><td>0.23771</td><td>0.24124</td><td>0.24513</td><td>0.24931</td><td>0.25356</td><td>0.25766</td><td>0.26151</td><td>0.26518</td><td>0.26888</td><td>0.27256</td><td>0.27599</td><td>0.27931</td><td>0.28259</td><td>0.28569</td><td>0.28858</td><td>0.29135</td><td>0.29406</td><td>0.29671</td><td>0.29929</td><td>0.30197</td><td>0.30473</td><td>0.30755</td><td>0.31043</td></tr>\n",
       "<tr><td>Barbados</td><td>0.25197</td><td>0.25236</td><td>0.25348</td><td>0.25485</td><td>0.25611</td><td>0.25725</td><td>0.25827</td><td>0.25912</td><td>0.25995</td><td>0.26109</td><td>0.26226</td><td>0.26334</td><td>0.2646</td><td>0.2657</td><td>0.26663</td><td>0.26767</td><td>0.26881</td><td>0.27006</td><td>0.27129</td><td>0.2725</td><td>0.27368</td><td>0.27491</td><td>0.27622</td><td>0.27755</td><td>0.27882</td><td>0.28004</td><td>0.28121</td><td>0.28236</td><td>0.2835</td><td>0.28459</td><td>0.28565</td></tr>\n",
       "<tr><td>Belize</td><td>0.14442</td><td>0.14921</td><td>0.1533</td><td>0.15685</td><td>0.16081</td><td>0.16556</td><td>0.17124</td><td>0.17635</td><td>0.1814</td><td>0.18643</td><td>0.19087</td><td>0.19575</td><td>0.20082</td><td>0.20609</td><td>0.21155</td><td>0.21717</td><td>0.22297</td><td>0.22895</td><td>0.23513</td><td>0.24148</td><td>0.248</td><td>0.25464</td><td>0.2613</td><td>0.26796</td><td>0.27462</td><td>0.28129</td><td>0.28795</td><td>0.29461</td><td>0.30127</td><td>0.3079</td><td>0.31452</td></tr>\n",
       "<tr><td>Bolivia</td><td>5.4413</td><td>5.54522</td><td>5.64222</td><td>5.73743</td><td>5.83429</td><td>5.93494</td><td>6.04135</td><td>6.15637</td><td>6.28316</td><td>6.42314</td><td>6.5739</td><td>6.73148</td><td>6.89345</td><td>7.05434</td><td>7.21481</td><td>7.37487</td><td>7.5344</td><td>7.69515</td><td>7.8589</td><td>8.02556</td><td>8.1951</td><td>8.36745</td><td>8.54249</td><td>8.71906</td><td>8.89597</td><td>9.07294</td><td>9.24971</td><td>9.42594</td><td>9.60126</td><td>9.77525</td><td>9.94742</td></tr>\n",
       "<tr><td>Brazil</td><td>123.01963</td><td>125.99213</td><td>129.02765</td><td>131.96012</td><td>134.69947</td><td>137.38198</td><td>140.19628</td><td>143.02654</td><td>145.87275</td><td>148.65864</td><td>151.17006</td><td>153.58396</td><td>156.03206</td><td>158.51205</td><td>161.01706</td><td>163.54428</td><td>166.08586</td><td>168.63874</td><td>171.20116</td><td>173.76387</td><td>176.31962</td><td>178.86966</td><td>181.41759</td><td>183.95992</td><td>186.4886</td><td>188.99308</td><td>191.46901</td><td>193.91858</td><td>196.34259</td><td>198.73927</td><td>201.10333</td></tr>\n",
       "<tr><td>Cayman Islands</td><td>0.01708</td><td>0.0179</td><td>0.01852</td><td>0.01909</td><td>0.02002</td><td>0.02085</td><td>0.02144</td><td>0.02207</td><td>0.0245</td><td>0.02507</td><td>0.02636</td><td>0.02751</td><td>0.02868</td><td>0.03001</td><td>0.0313</td><td>0.03249</td><td>0.03368</td><td>0.03487</td><td>0.03606</td><td>0.03725</td><td>0.03844</td><td>0.03962</td><td>0.0408</td><td>0.04199</td><td>0.04316</td><td>0.04434</td><td>0.04552</td><td>0.04669</td><td>0.04786</td><td>0.04904</td><td>0.05021</td></tr>\n",
       "<tr><td>Chile</td><td>11.09372</td><td>11.2823</td><td>11.48711</td><td>11.68662</td><td>11.87977</td><td>12.0678</td><td>12.261</td><td>12.46452</td><td>12.67869</td><td>12.90232</td><td>13.12892</td><td>13.35367</td><td>13.57416</td><td>13.78943</td><td>14.00122</td><td>14.20661</td><td>14.40541</td><td>14.60109</td><td>14.79216</td><td>14.97655</td><td>15.15574</td><td>15.33189</td><td>15.50394</td><td>15.67191</td><td>15.83563</td><td>15.99504</td><td>16.15084</td><td>16.30385</td><td>16.45414</td><td>16.60171</td><td>16.74649</td></tr>\n",
       "<tr><td>Colombia</td><td>26.63129</td><td>27.21489</td><td>27.82604</td><td>28.45499</td><td>29.09546</td><td>29.74762</td><td>30.41039</td><td>31.0853</td><td>31.77087</td><td>32.46085</td><td>33.14725</td><td>33.83221</td><td>34.52032</td><td>35.2056</td><td>35.88762</td><td>36.53183</td><td>37.09791</td><td>37.61994</td><td>38.13259</td><td>38.56386</td><td>38.91035</td><td>39.31245</td><td>39.80495</td><td>40.35102</td><td>40.92215</td><td>41.48778</td><td>42.04625</td><td>42.59732</td><td>43.14111</td><td>43.67737</td><td>44.20529</td></tr>\n",
       "</table>\n",
       "only showing top 20 rows\n"
      ],
      "text/plain": [
       "+--------------------+---------+---------+---------+---------+---------+---------+---------+---------+---------+---------+---------+---------+---------+---------+---------+---------+---------+---------+---------+---------+---------+---------+---------+---------+---------+---------+---------+---------+---------+---------+---------+\n",
       "|                 _c0|     1980|     1981|     1982|     1983|     1984|     1985|     1986|     1987|     1988|     1989|     1990|     1991|     1992|     1993|     1994|     1995|     1996|     1997|     1998|     1999|     2000|     2001|     2002|     2003|     2004|     2005|     2006|     2007|     2008|     2009|     2010|\n",
       "+--------------------+---------+---------+---------+---------+---------+---------+---------+---------+---------+---------+---------+---------+---------+---------+---------+---------+---------+---------+---------+---------+---------+---------+---------+---------+---------+---------+---------+---------+---------+---------+---------+\n",
       "|       North America|320.27638|324.44694|328.62014|332.72487|336.72143|340.74811|344.89548|349.07829| 353.2939|357.68457| 362.4468|367.70684|373.29069|378.74233| 383.9166|388.97216| 393.9428|398.97205|403.85585|408.60296| 413.3245|417.83236|422.05268|426.06238|430.26938|434.47232|438.82964| 443.3473|447.67394|451.83698|456.59331|\n",
       "|             Bermuda|  0.05473|  0.05491|  0.05517|  0.05551|  0.05585|  0.05618|  0.05651|  0.05683|  0.05717|  0.05749|  0.05778|   0.0581|   0.0587|  0.05924|  0.05975|  0.06029|  0.06087|  0.06145|  0.06198|  0.06251|  0.06306|  0.06361|  0.06418|  0.06476|  0.06534|  0.06591|  0.06644|  0.06692|  0.06739|  0.06784|  0.06827|\n",
       "|              Canada|  24.5933|     24.9|  25.2019|  25.4563|  25.7018|  25.9416|  26.2038|  26.5497|  26.8948|  27.3793|  27.7906|  28.1179| 28.54489| 28.95334| 29.33081| 29.69053| 30.02632|  30.3056| 30.55166| 30.82026| 31.09956| 31.37674| 31.64096| 31.88931| 32.13476| 32.38638| 32.65668| 32.93596|  33.2127| 33.48721| 33.75974|\n",
       "|           Greenland|  0.05021|  0.05103|  0.05166|  0.05211|  0.05263|  0.05315|  0.05364|   0.0541|  0.05485|  0.05541|  0.05563|  0.05554|  0.05549|  0.05564|  0.05592|  0.05619|  0.05634|  0.05651|  0.05661|   0.0567|  0.05689|  0.05713|  0.05736|  0.05754|   0.0577|  0.05778|  0.05764|  0.05753|  0.05756|   0.0576|  0.05764|\n",
       "|              Mexico| 68.34748| 69.96926|  71.6409| 73.36288| 75.08014| 76.76723| 78.44243| 80.12249| 81.78182| 83.36684| 84.91365| 86.48803| 88.11103| 89.74914|  91.3379| 92.88035| 94.39858| 95.89515| 97.32506| 98.61691| 99.92662|101.24696|102.47993|103.71806|104.95959| 106.2029|107.44953|108.70089| 109.9554|111.21179|112.46886|\n",
       "|Saint Pierre and ...|  0.00599|  0.00601|  0.00605|  0.00607|  0.00611|  0.00616|  0.00621|  0.00625|  0.00628|  0.00631|  0.00632|  0.00633|  0.00636|  0.00638|   0.0064|   0.0064|  0.00641|  0.00642|  0.00642|  0.00643|  0.00641|  0.00637|  0.00633|  0.00629|  0.00625|   0.0062|  0.00615|   0.0061|  0.00605|    0.006|  0.00594|\n",
       "|       United States|227.22468|229.46571|231.66446|233.79199| 235.8249| 237.9238|240.13289|242.28892|244.49898|246.81923|249.62281|252.98094|256.51422|259.91859|263.12582|266.27839|269.39428|272.64693| 275.8541|279.04017|282.17196|285.08156|287.80391|290.32642|293.04574|295.75315|298.59321| 301.5799|304.37485|307.00655|310.23286|\n",
       "|Central & South A...|293.05856|299.43033|305.95253|312.51136|318.87955|325.22704|331.82291|338.59859|345.44544|352.20471|358.79973|365.15137|371.43224| 377.7438|384.26984|390.75665|397.13002|403.41352|409.62879|415.63607| 421.4539|427.24012|433.05116|438.97976|445.01525|451.05504|457.01699|462.89157|468.73872|474.53897|480.01228|\n",
       "|          Antarctica|       NA|       NA|       NA|       NA|       NA|       NA|       NA|       NA|       NA|       NA|       NA|       NA|       NA|       NA|       NA|       NA|       NA|       NA|       NA|       NA|       NA|       NA|       NA|       NA|       NA|       NA|       NA|       NA|       NA|       NA|       NA|\n",
       "| Antigua and Barbuda|  0.06855|  0.06826|  0.06801|  0.06562|  0.06447|   0.0644|   0.0644|  0.06442|  0.06443|  0.06439|  0.06416|  0.06403|  0.06518|  0.06633|  0.06749|  0.06871|  0.07006|  0.07145|  0.07278|  0.07402|  0.07535|  0.07673|  0.07794|  0.07907|  0.08019|  0.08128|  0.08234|  0.08343|  0.08452|  0.08563|  0.08675|\n",
       "|           Argentina|  28.3698| 28.84806| 29.32988| 29.79355| 30.23064| 30.67176| 31.14499| 31.62462| 32.09932| 32.57162| 33.03558| 33.50441| 33.96685| 34.40715| 34.84689| 35.27384| 35.68296| 36.10216| 36.51792| 36.92342| 37.33565| 37.69417| 37.99945| 38.33688| 38.74183| 39.18126| 39.61443| 40.04882|   40.482| 40.91358|  41.3432|\n",
       "|               Aruba|       --|       --|       --|       --|       --|       --|   0.0598|  0.05918|   0.0595|  0.06069|  0.06303|   0.0663|  0.06948|  0.07407|  0.07785|  0.07996|  0.08307|  0.08621|   0.0882|  0.08926|     0.09|  0.09097|  0.09217|  0.09372|  0.09546|  0.09698|   0.0985|  0.10002|  0.10154|  0.10307|  0.10459|\n",
       "|        Bahamas, The|  0.20976|  0.21345|  0.21713|  0.22086|  0.22462|   0.2282|  0.23143|  0.23448|  0.23771|  0.24124|  0.24513|  0.24931|  0.25356|  0.25766|  0.26151|  0.26518|  0.26888|  0.27256|  0.27599|  0.27931|  0.28259|  0.28569|  0.28858|  0.29135|  0.29406|  0.29671|  0.29929|  0.30197|  0.30473|  0.30755|  0.31043|\n",
       "|            Barbados|  0.25197|  0.25236|  0.25348|  0.25485|  0.25611|  0.25725|  0.25827|  0.25912|  0.25995|  0.26109|  0.26226|  0.26334|   0.2646|   0.2657|  0.26663|  0.26767|  0.26881|  0.27006|  0.27129|   0.2725|  0.27368|  0.27491|  0.27622|  0.27755|  0.27882|  0.28004|  0.28121|  0.28236|   0.2835|  0.28459|  0.28565|\n",
       "|              Belize|  0.14442|  0.14921|   0.1533|  0.15685|  0.16081|  0.16556|  0.17124|  0.17635|   0.1814|  0.18643|  0.19087|  0.19575|  0.20082|  0.20609|  0.21155|  0.21717|  0.22297|  0.22895|  0.23513|  0.24148|    0.248|  0.25464|   0.2613|  0.26796|  0.27462|  0.28129|  0.28795|  0.29461|  0.30127|   0.3079|  0.31452|\n",
       "|             Bolivia|   5.4413|  5.54522|  5.64222|  5.73743|  5.83429|  5.93494|  6.04135|  6.15637|  6.28316|  6.42314|   6.5739|  6.73148|  6.89345|  7.05434|  7.21481|  7.37487|   7.5344|  7.69515|   7.8589|  8.02556|   8.1951|  8.36745|  8.54249|  8.71906|  8.89597|  9.07294|  9.24971|  9.42594|  9.60126|  9.77525|  9.94742|\n",
       "|              Brazil|123.01963|125.99213|129.02765|131.96012|134.69947|137.38198|140.19628|143.02654|145.87275|148.65864|151.17006|153.58396|156.03206|158.51205|161.01706|163.54428|166.08586|168.63874|171.20116|173.76387|176.31962|178.86966|181.41759|183.95992| 186.4886|188.99308|191.46901|193.91858|196.34259|198.73927|201.10333|\n",
       "|      Cayman Islands|  0.01708|   0.0179|  0.01852|  0.01909|  0.02002|  0.02085|  0.02144|  0.02207|   0.0245|  0.02507|  0.02636|  0.02751|  0.02868|  0.03001|   0.0313|  0.03249|  0.03368|  0.03487|  0.03606|  0.03725|  0.03844|  0.03962|   0.0408|  0.04199|  0.04316|  0.04434|  0.04552|  0.04669|  0.04786|  0.04904|  0.05021|\n",
       "|               Chile| 11.09372|  11.2823| 11.48711| 11.68662| 11.87977|  12.0678|   12.261| 12.46452| 12.67869| 12.90232| 13.12892| 13.35367| 13.57416| 13.78943| 14.00122| 14.20661| 14.40541| 14.60109| 14.79216| 14.97655| 15.15574| 15.33189| 15.50394| 15.67191| 15.83563| 15.99504| 16.15084| 16.30385| 16.45414| 16.60171| 16.74649|\n",
       "|            Colombia| 26.63129| 27.21489| 27.82604| 28.45499| 29.09546| 29.74762| 30.41039|  31.0853| 31.77087| 32.46085| 33.14725| 33.83221| 34.52032|  35.2056| 35.88762| 36.53183| 37.09791| 37.61994| 38.13259| 38.56386| 38.91035| 39.31245| 39.80495| 40.35102| 40.92215| 41.48778| 42.04625| 42.59732| 43.14111| 43.67737| 44.20529|\n",
       "+--------------------+---------+---------+---------+---------+---------+---------+---------+---------+---------+---------+---------+---------+---------+---------+---------+---------+---------+---------+---------+---------+---------+---------+---------+---------+---------+---------+---------+---------+---------+---------+---------+\n",
       "only showing top 20 rows"
      ]
     },
     "execution_count": 10,
     "metadata": {},
     "output_type": "execute_result"
    }
   ],
   "source": [
    "Population = spark.read.option(\"inferSchema\", \"true\").option(\"header\", \"true\").csv(\"populationbycountry19802010millions.csv\")\n",
    "Population = Population.dropna()\n",
    "Population"
   ]
  },
  {
   "cell_type": "markdown",
   "id": "3e9833c3-f22b-474a-97da-a59d4a5be97e",
   "metadata": {},
   "source": [
    "Method 1"
   ]
  },
  {
   "cell_type": "code",
   "execution_count": 11,
   "id": "560be728-62fd-4c32-91b0-9ea74ddccf5e",
   "metadata": {},
   "outputs": [],
   "source": [
    "from pyspark.sql.functions import udf,lit, cast, col\n",
    "from pyspark.sql.types import DoubleType\n",
    "from pyspark.sql.types import IntegerType\n",
    "\n",
    "data = []\n",
    "\n",
    "\n",
    "for k in Population.columns[1:]:\n",
    "    Population = Population.withColumn(k,col(k).cast('double'))\n",
    "\n",
    "for i,j in zip(Population.columns[1:], Population.columns[2:]):\n",
    "    Population = Population.withColumn(\"Percentage_increase(\"+i+\",\"+j+\")\",((col(j)-col(i))*100)/col(i)) \n",
    "                                                "
   ]
  },
  {
   "cell_type": "code",
   "execution_count": 12,
   "id": "85bcebe8-a729-49aa-9e38-2e394e1ea891",
   "metadata": {},
   "outputs": [],
   "source": [
    "Population = Population.dropna() "
   ]
  },
  {
   "cell_type": "code",
   "execution_count": null,
   "id": "cc6403a3-12ca-4a45-9ff4-3d8b7d806b0a",
   "metadata": {},
   "outputs": [
    {
     "name": "stdout",
     "output_type": "stream",
     "text": [
      "1981\n"
     ]
    }
   ],
   "source": [
    "from pyspark.sql.functions import udf,lit, cast, col, asc, desc\n",
    "for i,j in zip(Population.columns[1:], Population.columns[2:]):\n",
    "    if len(i)==4 and len(j)==4:\n",
    "        print(j)\n",
    "        col_name = \"Percentage_increase(\"+i+\",\"+j+\")\"\n",
    "        Population = Population.sort(desc(col_name))\n",
    "        print(\"MAX\",Population.collect()[0][\"_c0\"], Population.collect()[0][col_name])\n",
    "        Population = Population.sort(asc(col_name))\n",
    "        print(\"MIN\",Population.collect()[0][\"_c0\"], Population.collect()[0][col_name])"
   ]
  },
  {
   "cell_type": "code",
   "execution_count": null,
   "id": "00b3744b-6f68-46e3-b442-82cee802ec4e",
   "metadata": {},
   "outputs": [],
   "source": []
  },
  {
   "cell_type": "code",
   "execution_count": null,
   "id": "42a99471-c176-4522-8dc9-a4fd9986288f",
   "metadata": {},
   "outputs": [],
   "source": []
  },
  {
   "cell_type": "code",
   "execution_count": null,
   "id": "f9cfbaea-2e6f-4540-af5b-e2a3cbad5640",
   "metadata": {},
   "outputs": [],
   "source": []
  },
  {
   "cell_type": "markdown",
   "id": "da65374e-29e4-46eb-866c-e9c1a002eb46",
   "metadata": {},
   "source": [
    "Method 2"
   ]
  },
  {
   "cell_type": "code",
   "execution_count": null,
   "id": "ee9c0de3-4b76-47f0-99a9-6a4ea927348c",
   "metadata": {},
   "outputs": [],
   "source": [
    "Population = spark.read.option(\"inferSchema\", \"true\").option(\"header\", \"true\").csv(\"populationbycountry19802010millions.csv\")\n",
    "Population.dropna()"
   ]
  },
  {
   "cell_type": "code",
   "execution_count": null,
   "id": "e7387d7a-d87f-4282-9ceb-38ebbab3aa54",
   "metadata": {},
   "outputs": [],
   "source": [
    "from pyspark.sql.functions import expr\n",
    "expression = \"stack(31, '1980', `1980`, '1981', `1981`, '1982', `1982`, '1983', `1983`, '1984', `1984`, '1985', `1985`, '1986', `1986`, '1987', `1987`, '1988', `1988`, '1989', `1989`, '1990', `1990`, '1991', `1991`, '1992', `1992`, '1993', `1993`, '1994', `1994`, '1995', `1995`, '1996', `1996`, '1997', `1997`, '1998', `1998`, '1999', `1999`, '2000', `2000`, '2001', `2001`, '2002', `2002`, '2003', `2003`, '2004', `2004`, '2005', `2005`, '2006', `2006`, '2007', `2007`, '2008', `2008`, '2009', `2009`, '2010', `2010`) as (Year, Population)\"\n",
    "Population_unpivot = Population.select(\"_c0\", expr(expression))\n",
    "Population_unpivot.show()"
   ]
  },
  {
   "cell_type": "code",
   "execution_count": null,
   "id": "18498a62-4a52-4158-968f-4098a109232e",
   "metadata": {},
   "outputs": [],
   "source": [
    "from pyspark.sql.window import Window\n",
    "windowSpec  = Window.partitionBy(\"_c0\").orderBy(\"Year\")"
   ]
  },
  {
   "cell_type": "code",
   "execution_count": null,
   "id": "cc4b9f1b-2187-49af-b3e8-9215aa4e8bbb",
   "metadata": {},
   "outputs": [],
   "source": [
    "\n",
    "from pyspark.sql.functions import lag\n",
    "Population_unpivot_lag = Population_unpivot.withColumn('LastYear_Population',lag(Population_unpivot['Population']).over(windowSpec))\n",
    "\n",
    "Population_unpivot_lag.dropna()"
   ]
  },
  {
   "cell_type": "code",
   "execution_count": null,
   "id": "772de13e-f902-4618-9789-8aac4f4639d7",
   "metadata": {},
   "outputs": [],
   "source": [
    "from pyspark.sql.types import FloatType\n",
    "\n",
    "def percentage_increase(a,b): \n",
    "    return ((b-a)*100)/a\n",
    "\n",
    "\n",
    "percentage_increase_udf = udf(percentage_increase, FloatType())\n",
    "Population_unpivot_percent_growth = Population_unpivot_lag.withColumn(\"Percentage_increase\",  ((Population_unpivot_lag['Population'] - Population_unpivot_lag['LastYear_Population']) / Population_unpivot_lag['LastYear_Population'])*100)                                                           \n",
    "                                                                                                              "
   ]
  },
  {
   "cell_type": "code",
   "execution_count": null,
   "id": "acf8056e-6d6e-4c94-ac78-262c2aa33e2a",
   "metadata": {},
   "outputs": [],
   "source": [
    "Population_unpivot_percent_growth = Population_unpivot_percent_growth.dropna()"
   ]
  },
  {
   "cell_type": "code",
   "execution_count": null,
   "id": "c31d494e-5a3b-469c-9d30-e02f2fcedf6b",
   "metadata": {},
   "outputs": [],
   "source": [
    "from pyspark.sql.functions import col, dense_rank, desc, asc\n",
    "\n",
    "max_increase_window = Window.partitionBy(\"Year\").orderBy(desc(\"Percentage_increase\"))\n",
    "max_increase = Population_unpivot_percent_growth.withColumn(\"Max\", dense_rank().over(max_increase_window)).where(col(\"Max\") == 1)\n",
    "\n",
    "\n",
    "max_increase = max_increase.withColumn(\"Type\", lit(\"Max\"))\n",
    "\n",
    "min_increase_window = Window.partitionBy(\"Year\").orderBy(asc(\"Percentage_increase\"))\n",
    "min_increase = Population_unpivot_percent_growth.withColumn(\"Min\", dense_rank().over(min_increase_window)).where(col(\"Min\") == 1)\n",
    "min_increase = min_increase.withColumn(\"Type\", lit(\"Min\"))\n",
    "\n",
    "min_increase.union(max_increase).select(\"_c0\", \"Year\",\"Type\", \"Percentage_increase\").orderBy(\"Year\").show()\n",
    "min_increase.union(max_increase).select(\"_c0\", \"Year\",\"Type\", \"Percentage_increase\").orderBy(asc(\"Year\"),desc(\"Type\")).show()"
   ]
  },
  {
   "cell_type": "code",
   "execution_count": null,
   "id": "b4ff271d-0255-4b62-88bd-dda1c5cd9090",
   "metadata": {},
   "outputs": [],
   "source": []
  },
  {
   "cell_type": "code",
   "execution_count": null,
   "id": "f38e2639-e24c-4f1d-a76b-99b90aefda56",
   "metadata": {},
   "outputs": [],
   "source": []
  },
  {
   "cell_type": "markdown",
   "id": "8b13646d-d443-440d-b1cd-0949a63b86f6",
   "metadata": {},
   "source": [
    "Q4"
   ]
  },
  {
   "cell_type": "code",
   "execution_count": null,
   "id": "20b311cc-26bb-436f-b8de-b8410f4ef6fe",
   "metadata": {},
   "outputs": [],
   "source": [
    "df = spark.read.text(\"shared/hw2/romeo-juliet-pg1777.txt\")"
   ]
  },
  {
   "cell_type": "code",
   "execution_count": null,
   "id": "7ba0f864-05a2-4c11-9439-1b84b715a761",
   "metadata": {},
   "outputs": [],
   "source": [
    "df"
   ]
  },
  {
   "cell_type": "code",
   "execution_count": null,
   "id": "1b4b6a97-5db5-48ba-9022-79439497a0f8",
   "metadata": {},
   "outputs": [],
   "source": [
    "from pyspark.sql.functions import regexp_replace, regexp_extract, lower, explode, split, col, desc\n",
    "df = df.withColumn(\"all_lower\",lower(col('value')))"
   ]
  },
  {
   "cell_type": "code",
   "execution_count": null,
   "id": "0dab40d4-53a8-48d6-aceb-871638883247",
   "metadata": {},
   "outputs": [],
   "source": [
    "df1 = df.withColumn(\"parsed\",regexp_replace(col(\"all_lower\"),'[^a-z0-9]',' '))"
   ]
  },
  {
   "cell_type": "code",
   "execution_count": null,
   "id": "12730226-1a2a-41cb-bd7d-9124251182aa",
   "metadata": {},
   "outputs": [],
   "source": [
    "df1.select(explode(split(col(\"parsed\"),' ')).alias(\"exploding\")).filter(col(\"exploding\")!='').groupby(\"exploding\").count().sort(desc(\"count\"))"
   ]
  },
  {
   "cell_type": "markdown",
   "id": "8378e5f1-4406-4901-8649-df75aa4b98cc",
   "metadata": {},
   "source": [
    "### Q5"
   ]
  },
  {
   "cell_type": "code",
   "execution_count": null,
   "id": "8010c58c-fa21-48b7-b1e9-ae4bdb9613b9",
   "metadata": {},
   "outputs": [],
   "source": [
    "json_reader = spark.read.format(\"json\").load(\"shared/hw2/durham-nc-foreclosure-2006-2016.json\")\n",
    "json_reader"
   ]
  },
  {
   "cell_type": "code",
   "execution_count": null,
   "id": "bde81ae2-d14b-44f0-8d80-174a3ef0d9db",
   "metadata": {},
   "outputs": [],
   "source": [
    "Restaurants = spark.read.option(\"inferSchema\", \"true\").option(\"header\", \"true\").csv(\"shared/hw2/Restaurants_in_Durham_County_NC.csv\",sep=';')\n",
    "Restaurants.columns"
   ]
  },
  {
   "cell_type": "code",
   "execution_count": null,
   "id": "c6f0503c-bd1e-4c5d-af53-e9ce00d6f236",
   "metadata": {},
   "outputs": [],
   "source": [
    "Restaurant_active = Restaurants.filter((Restaurants.Status==\"ACTIVE\") & (Restaurants.Rpt_Area_Desc==\"Food Service\"))"
   ]
  },
  {
   "cell_type": "code",
   "execution_count": null,
   "id": "f638bd9e-edc9-414f-a6f7-3df8dc3d7308",
   "metadata": {},
   "outputs": [],
   "source": [
    "Restaurant_active.groupby(col(\"Status\")).count()"
   ]
  },
  {
   "cell_type": "code",
   "execution_count": null,
   "id": "428067da-11e7-40a3-8bf1-f2256ba8581c",
   "metadata": {},
   "outputs": [],
   "source": [
    "Restaurant_subset = Restaurant_active.select(\"id\",\"geolocation\",\"Premise_City\")\n",
    "Restaurant_subset = Restaurant_subset.na.drop(subset=[\"geolocation\"])\n",
    "Restaurant_two = Restaurant_subset.select(\"*\")\n",
    "Restaurant_one = Restaurant_subset.withColumnRenamed(\"geolocation\",\"geolocation_x\")\n",
    "Restaurant_one = Restaurant_one.withColumnRenamed(\"id\",\"id_x\")\n",
    "Restaurant_one = Restaurant_one.withColumnRenamed(\"Premise_City\",\"Premise_City_x\")"
   ]
  },
  {
   "cell_type": "code",
   "execution_count": null,
   "id": "05964674-5086-46d5-9510-f6b03d5dee0d",
   "metadata": {},
   "outputs": [],
   "source": [
    "Restaurant_two"
   ]
  },
  {
   "cell_type": "code",
   "execution_count": null,
   "id": "f4a7e31c-5a07-4f76-b5f7-698b4c570528",
   "metadata": {},
   "outputs": [],
   "source": [
    "Restaurant_one = Restaurant_one.join(Restaurant_two, ((Restaurant_one[\"id_x\"]!=Restaurant_two[\"id\"]) & (Restaurant_one[\"Premise_City_x\"]==Restaurant_two[\"Premise_City\"])), \"cross\")\n",
    "Restaurant_one\n",
    "\n"
   ]
  },
  {
   "cell_type": "code",
   "execution_count": null,
   "id": "d8dfe07d-aed2-4644-8062-186624aa6230",
   "metadata": {},
   "outputs": [],
   "source": [
    "from haversine import haversine, Unit\n",
    "def haversine_distance(a,b):\n",
    "    a_lis = list(a.split(\",\"))\n",
    "    li = [float(x) for x in a_lis]\n",
    "\n",
    "    b_lis = list(b.split(\",\"))\n",
    "    lj = [float(x) for x in b_lis]\n",
    "    \n",
    "    distance = haversine(li, lj)\n",
    "    \n",
    "    return distance\n",
    "\n",
    "haversine_distance_udf = udf(haversine_distance,DoubleType())"
   ]
  },
  {
   "cell_type": "code",
   "execution_count": null,
   "id": "51ece786-53ab-4cef-b1be-4a8fe60e13d0",
   "metadata": {},
   "outputs": [],
   "source": [
    "'''\n",
    "a = Restaurant_one.select(\"geolocation\").collect()[0]\n",
    "print(a)\n",
    "b = Restaurant_one.select(\"geolocation_x\").collect()[0]\n",
    "print(b)\n",
    "haversine_distance(a[0],b[0])\n",
    "'''"
   ]
  },
  {
   "cell_type": "code",
   "execution_count": null,
   "id": "6e6c22c9-bec4-425c-a5e1-7b854fd431de",
   "metadata": {},
   "outputs": [],
   "source": []
  },
  {
   "cell_type": "code",
   "execution_count": null,
   "id": "653a093c-af10-4064-b711-69d91c5542a4",
   "metadata": {},
   "outputs": [],
   "source": [
    "Restaurant_one"
   ]
  },
  {
   "cell_type": "code",
   "execution_count": null,
   "id": "450cc912-c7bc-4109-af13-6ef53123f88d",
   "metadata": {},
   "outputs": [],
   "source": [
    "Restaurant_one.withColumn(\"distance\", haversine_distance_udf(col(\"geolocation_x\"),col(\"geolocation\"))).sort(\"distance\").show()\n"
   ]
  },
  {
   "cell_type": "code",
   "execution_count": null,
   "id": "04fa1d5f-b3f4-4648-b3ac-727c68cfd911",
   "metadata": {},
   "outputs": [],
   "source": []
  },
  {
   "cell_type": "code",
   "execution_count": null,
   "id": "026b3b1d-7edb-43d0-a1b2-e6a3afae5d51",
   "metadata": {},
   "outputs": [],
   "source": []
  },
  {
   "cell_type": "code",
   "execution_count": null,
   "id": "810aa062-bf49-434d-ad39-47948f31876e",
   "metadata": {},
   "outputs": [],
   "source": []
  },
  {
   "cell_type": "code",
   "execution_count": null,
   "id": "8e69a3ca-f8d2-4d1f-bc2f-9fc1c572cbef",
   "metadata": {},
   "outputs": [],
   "source": []
  },
  {
   "cell_type": "code",
   "execution_count": null,
   "id": "61335214-5e07-4e5e-b36d-274964ff28c2",
   "metadata": {},
   "outputs": [],
   "source": []
  }
 ],
 "metadata": {
  "kernelspec": {
   "display_name": "Python [conda env:bigdata-fall22]",
   "language": "python",
   "name": "conda-env-bigdata-fall22-py"
  },
  "language_info": {
   "codemirror_mode": {
    "name": "ipython",
    "version": 3
   },
   "file_extension": ".py",
   "mimetype": "text/x-python",
   "name": "python",
   "nbconvert_exporter": "python",
   "pygments_lexer": "ipython3",
   "version": "3.7.12"
  }
 },
 "nbformat": 4,
 "nbformat_minor": 5
}
